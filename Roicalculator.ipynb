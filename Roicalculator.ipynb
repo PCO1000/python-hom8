{
 "cells": [
  {
   "cell_type": "code",
   "execution_count": 2,
   "metadata": {},
   "outputs": [
    {
     "name": "stdout",
     "output_type": "stream",
     "text": [
      "Rental Property Calculator Results:\n",
      "Income: $3000.0\n",
      "Expenses: $2000.0\n",
      "Cash Flow: $1000.0\n",
      "Return on Investment (ROI): 50.0%\n"
     ]
    }
   ],
   "source": [
    "#ROI CALCULATOR\n",
    "\n",
    "class RentalPropertyCalculator:\n",
    "    def __init__(self, income, expenses):\n",
    "        self.income = income\n",
    "        self.expenses = expenses\n",
    "        self.calculate_cash_flow()\n",
    "        self.calculate_roi()\n",
    "\n",
    "    def calculate_cash_flow(self):\n",
    "        self.cash_flow = self.income - self.expenses\n",
    "\n",
    "    def calculate_roi(self):\n",
    "        if self.expenses != 0:\n",
    "            self.roi = (self.cash_flow / self.expenses) * 100\n",
    "        else:\n",
    "            self.roi = 0\n",
    "\n",
    "    def display_results(self):\n",
    "        print(\"Rental Property Calculator Results:\")\n",
    "        print(f\"Income: ${self.income}\")\n",
    "        print(f\"Expenses: ${self.expenses}\")\n",
    "        print(f\"Cash Flow: ${self.cash_flow}\")\n",
    "        print(f\"Return on Investment (ROI): {self.roi}%\")\n",
    "\n",
    "\n",
    "\n",
    "income = float(input(\"Enter the rental property income: $\"))\n",
    "expenses = float(input(\"Enter the rental property expenses: $\"))\n",
    "\n",
    "calculator = RentalPropertyCalculator(income, expenses)\n",
    "calculator.display_results()\n"
   ]
  }
 ],
 "metadata": {
  "kernelspec": {
   "display_name": "Python 3",
   "language": "python",
   "name": "python3"
  },
  "language_info": {
   "codemirror_mode": {
    "name": "ipython",
    "version": 3
   },
   "file_extension": ".py",
   "mimetype": "text/x-python",
   "name": "python",
   "nbconvert_exporter": "python",
   "pygments_lexer": "ipython3",
   "version": "3.10.10"
  }
 },
 "nbformat": 4,
 "nbformat_minor": 2
}
